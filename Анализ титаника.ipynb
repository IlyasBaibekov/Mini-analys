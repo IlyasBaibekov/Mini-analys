{
 "cells": [
  {
   "cell_type": "code",
   "execution_count": 26,
   "id": "23b62881-4342-497f-8f28-f588b50b2865",
   "metadata": {},
   "outputs": [],
   "source": [
    "import pandas as pd\n",
    "import missingno as msno\n",
    "import random\n",
    "import matplotlib.pyplot as plt"
   ]
  },
  {
   "cell_type": "code",
   "execution_count": 2,
   "id": "563894fd-2d7d-415b-9170-e2fa96f996df",
   "metadata": {},
   "outputs": [],
   "source": [
    "# создать датафрейм можно вручную\n",
    "df = pd.DataFrame([[1,'Bob', 'Builder'],\n",
    "                  [2,'Sally', 'Baker'],\n",
    "                  [3,'Scott', 'Candle Stick Maker']], \n",
    "columns=['id','name', 'occupation'])"
   ]
  },
  {
   "cell_type": "code",
   "execution_count": 3,
   "id": "de1da6e1-d30a-4932-b7bf-237c78b158e9",
   "metadata": {},
   "outputs": [
    {
     "data": {
      "text/html": [
       "<div>\n",
       "<style scoped>\n",
       "    .dataframe tbody tr th:only-of-type {\n",
       "        vertical-align: middle;\n",
       "    }\n",
       "\n",
       "    .dataframe tbody tr th {\n",
       "        vertical-align: top;\n",
       "    }\n",
       "\n",
       "    .dataframe thead th {\n",
       "        text-align: right;\n",
       "    }\n",
       "</style>\n",
       "<table border=\"1\" class=\"dataframe\">\n",
       "  <thead>\n",
       "    <tr style=\"text-align: right;\">\n",
       "      <th></th>\n",
       "      <th>PassengerId</th>\n",
       "      <th>Survived</th>\n",
       "      <th>Pclass</th>\n",
       "      <th>Name</th>\n",
       "      <th>Sex</th>\n",
       "      <th>Age</th>\n",
       "      <th>SibSp</th>\n",
       "      <th>Parch</th>\n",
       "      <th>Ticket</th>\n",
       "      <th>Fare</th>\n",
       "      <th>Cabin</th>\n",
       "      <th>Embarked</th>\n",
       "    </tr>\n",
       "  </thead>\n",
       "  <tbody>\n",
       "    <tr>\n",
       "      <th>0</th>\n",
       "      <td>1</td>\n",
       "      <td>0</td>\n",
       "      <td>3</td>\n",
       "      <td>Braund, Mr. Owen Harris</td>\n",
       "      <td>male</td>\n",
       "      <td>22.0</td>\n",
       "      <td>1</td>\n",
       "      <td>0</td>\n",
       "      <td>A/5 21171</td>\n",
       "      <td>7.2500</td>\n",
       "      <td>NaN</td>\n",
       "      <td>S</td>\n",
       "    </tr>\n",
       "    <tr>\n",
       "      <th>1</th>\n",
       "      <td>2</td>\n",
       "      <td>1</td>\n",
       "      <td>1</td>\n",
       "      <td>Cumings, Mrs. John Bradley (Florence Briggs Th...</td>\n",
       "      <td>female</td>\n",
       "      <td>38.0</td>\n",
       "      <td>1</td>\n",
       "      <td>0</td>\n",
       "      <td>PC 17599</td>\n",
       "      <td>71.2833</td>\n",
       "      <td>C85</td>\n",
       "      <td>C</td>\n",
       "    </tr>\n",
       "    <tr>\n",
       "      <th>2</th>\n",
       "      <td>3</td>\n",
       "      <td>1</td>\n",
       "      <td>3</td>\n",
       "      <td>Heikkinen, Miss. Laina</td>\n",
       "      <td>female</td>\n",
       "      <td>26.0</td>\n",
       "      <td>0</td>\n",
       "      <td>0</td>\n",
       "      <td>STON/O2. 3101282</td>\n",
       "      <td>7.9250</td>\n",
       "      <td>NaN</td>\n",
       "      <td>S</td>\n",
       "    </tr>\n",
       "    <tr>\n",
       "      <th>3</th>\n",
       "      <td>4</td>\n",
       "      <td>1</td>\n",
       "      <td>1</td>\n",
       "      <td>Futrelle, Mrs. Jacques Heath (Lily May Peel)</td>\n",
       "      <td>female</td>\n",
       "      <td>35.0</td>\n",
       "      <td>1</td>\n",
       "      <td>0</td>\n",
       "      <td>113803</td>\n",
       "      <td>53.1000</td>\n",
       "      <td>C123</td>\n",
       "      <td>S</td>\n",
       "    </tr>\n",
       "    <tr>\n",
       "      <th>4</th>\n",
       "      <td>5</td>\n",
       "      <td>0</td>\n",
       "      <td>3</td>\n",
       "      <td>Allen, Mr. William Henry</td>\n",
       "      <td>male</td>\n",
       "      <td>35.0</td>\n",
       "      <td>0</td>\n",
       "      <td>0</td>\n",
       "      <td>373450</td>\n",
       "      <td>8.0500</td>\n",
       "      <td>NaN</td>\n",
       "      <td>S</td>\n",
       "    </tr>\n",
       "    <tr>\n",
       "      <th>886</th>\n",
       "      <td>887</td>\n",
       "      <td>0</td>\n",
       "      <td>2</td>\n",
       "      <td>Montvila, Rev. Juozas</td>\n",
       "      <td>male</td>\n",
       "      <td>27.0</td>\n",
       "      <td>0</td>\n",
       "      <td>0</td>\n",
       "      <td>211536</td>\n",
       "      <td>13.0000</td>\n",
       "      <td>NaN</td>\n",
       "      <td>S</td>\n",
       "    </tr>\n",
       "    <tr>\n",
       "      <th>887</th>\n",
       "      <td>888</td>\n",
       "      <td>1</td>\n",
       "      <td>1</td>\n",
       "      <td>Graham, Miss. Margaret Edith</td>\n",
       "      <td>female</td>\n",
       "      <td>19.0</td>\n",
       "      <td>0</td>\n",
       "      <td>0</td>\n",
       "      <td>112053</td>\n",
       "      <td>30.0000</td>\n",
       "      <td>B42</td>\n",
       "      <td>S</td>\n",
       "    </tr>\n",
       "    <tr>\n",
       "      <th>888</th>\n",
       "      <td>889</td>\n",
       "      <td>0</td>\n",
       "      <td>3</td>\n",
       "      <td>Johnston, Miss. Catherine Helen \"Carrie\"</td>\n",
       "      <td>female</td>\n",
       "      <td>NaN</td>\n",
       "      <td>1</td>\n",
       "      <td>2</td>\n",
       "      <td>W./C. 6607</td>\n",
       "      <td>23.4500</td>\n",
       "      <td>NaN</td>\n",
       "      <td>S</td>\n",
       "    </tr>\n",
       "    <tr>\n",
       "      <th>889</th>\n",
       "      <td>890</td>\n",
       "      <td>1</td>\n",
       "      <td>1</td>\n",
       "      <td>Behr, Mr. Karl Howell</td>\n",
       "      <td>male</td>\n",
       "      <td>26.0</td>\n",
       "      <td>0</td>\n",
       "      <td>0</td>\n",
       "      <td>111369</td>\n",
       "      <td>30.0000</td>\n",
       "      <td>C148</td>\n",
       "      <td>C</td>\n",
       "    </tr>\n",
       "    <tr>\n",
       "      <th>890</th>\n",
       "      <td>891</td>\n",
       "      <td>0</td>\n",
       "      <td>3</td>\n",
       "      <td>Dooley, Mr. Patrick</td>\n",
       "      <td>male</td>\n",
       "      <td>32.0</td>\n",
       "      <td>0</td>\n",
       "      <td>0</td>\n",
       "      <td>370376</td>\n",
       "      <td>7.7500</td>\n",
       "      <td>NaN</td>\n",
       "      <td>Q</td>\n",
       "    </tr>\n",
       "  </tbody>\n",
       "</table>\n",
       "</div>"
      ],
      "text/plain": [
       "     PassengerId  Survived  Pclass  \\\n",
       "0              1         0       3   \n",
       "1              2         1       1   \n",
       "2              3         1       3   \n",
       "3              4         1       1   \n",
       "4              5         0       3   \n",
       "886          887         0       2   \n",
       "887          888         1       1   \n",
       "888          889         0       3   \n",
       "889          890         1       1   \n",
       "890          891         0       3   \n",
       "\n",
       "                                                  Name     Sex   Age  SibSp  \\\n",
       "0                              Braund, Mr. Owen Harris    male  22.0      1   \n",
       "1    Cumings, Mrs. John Bradley (Florence Briggs Th...  female  38.0      1   \n",
       "2                               Heikkinen, Miss. Laina  female  26.0      0   \n",
       "3         Futrelle, Mrs. Jacques Heath (Lily May Peel)  female  35.0      1   \n",
       "4                             Allen, Mr. William Henry    male  35.0      0   \n",
       "886                              Montvila, Rev. Juozas    male  27.0      0   \n",
       "887                       Graham, Miss. Margaret Edith  female  19.0      0   \n",
       "888           Johnston, Miss. Catherine Helen \"Carrie\"  female   NaN      1   \n",
       "889                              Behr, Mr. Karl Howell    male  26.0      0   \n",
       "890                                Dooley, Mr. Patrick    male  32.0      0   \n",
       "\n",
       "     Parch            Ticket     Fare Cabin Embarked  \n",
       "0        0         A/5 21171   7.2500   NaN        S  \n",
       "1        0          PC 17599  71.2833   C85        C  \n",
       "2        0  STON/O2. 3101282   7.9250   NaN        S  \n",
       "3        0            113803  53.1000  C123        S  \n",
       "4        0            373450   8.0500   NaN        S  \n",
       "886      0            211536  13.0000   NaN        S  \n",
       "887      0            112053  30.0000   B42        S  \n",
       "888      2        W./C. 6607  23.4500   NaN        S  \n",
       "889      0            111369  30.0000  C148        C  \n",
       "890      0            370376   7.7500   NaN        Q  "
      ]
     },
     "execution_count": 3,
     "metadata": {},
     "output_type": "execute_result"
    }
   ],
   "source": [
    "df = pd.read_csv('train.csv') # вот так открываем документ\n",
    "pd.concat([df.head(5), df.tail(5)]) # вот так выводим строки\n",
    "# дополнительные возможности\n",
    "# можно брать данные из EXEL файлов \n",
    "\n",
    "# df = pd.read_excel('data.xlsx', sheet_name='Sheet1')\n",
    "\n",
    "# еще можно читать SQL файлы, что более трудно, но всё равно возможно"
   ]
  },
  {
   "cell_type": "code",
   "execution_count": 4,
   "id": "adcacbac-c9eb-48ea-b7fe-6099fc69cfbe",
   "metadata": {},
   "outputs": [
    {
     "data": {
      "text/plain": [
       "(891, 12)"
      ]
     },
     "execution_count": 4,
     "metadata": {},
     "output_type": "execute_result"
    }
   ],
   "source": [
    "df.shape # узнаем сколько строк и сколько столбцов содержит датафрейм. Можно обратитьс к [0] или [1] элементу."
   ]
  },
  {
   "cell_type": "code",
   "execution_count": 5,
   "id": "9306565e-3a95-4c56-b905-cac70291b253",
   "metadata": {},
   "outputs": [
    {
     "data": {
      "text/plain": [
       "PassengerId    891\n",
       "Survived       891\n",
       "Pclass         891\n",
       "Name           891\n",
       "Sex            891\n",
       "Age            714\n",
       "SibSp          891\n",
       "Parch          891\n",
       "Ticket         891\n",
       "Fare           891\n",
       "Cabin          204\n",
       "Embarked       889\n",
       "dtype: int64"
      ]
     },
     "execution_count": 5,
     "metadata": {},
     "output_type": "execute_result"
    }
   ],
   "source": [
    "df.count() # узнаем количество ненулевых значени в каждом столбце"
   ]
  },
  {
   "cell_type": "code",
   "execution_count": 6,
   "id": "50edfd3f-d0a1-41dd-bfb2-32659301fdc2",
   "metadata": {},
   "outputs": [
    {
     "data": {
      "text/plain": [
       "PassengerId      int64\n",
       "Survived         int64\n",
       "Pclass           int64\n",
       "Name            object\n",
       "Sex             object\n",
       "Age            float64\n",
       "SibSp            int64\n",
       "Parch            int64\n",
       "Ticket          object\n",
       "Fare           float64\n",
       "Cabin           object\n",
       "Embarked        object\n",
       "dtype: object"
      ]
     },
     "execution_count": 6,
     "metadata": {},
     "output_type": "execute_result"
    }
   ],
   "source": [
    "df.dtypes # узнаем типы данных в столбцах"
   ]
  },
  {
   "cell_type": "code",
   "execution_count": null,
   "id": "8b6b28c0-315b-4667-bdd2-a597a3e7f0da",
   "metadata": {},
   "outputs": [],
   "source": [
    "Возможные задачи, которые можно решать на этих данных\n",
    "1. Задача регрессии - найти стоимость билета пассажира\n",
    "2. Задача классификации - выжил ли пассажир\n",
    "3. Задача кластеризации - найти группы возрастов людей, которые выжили в большинстве"
   ]
  },
  {
   "cell_type": "code",
   "execution_count": 7,
   "id": "192f0db7-f071-4605-a24d-da74d30ecbf6",
   "metadata": {},
   "outputs": [
    {
     "name": "stdout",
     "output_type": "stream",
     "text": [
      "Доля выживших: 0.3838383838383838\n",
      "Доля выживших женщин: 0.2615039281705948\n",
      "Доля выживших мужчин: 0.122334455667789\n"
     ]
    }
   ],
   "source": [
    "# отбор по условию \n",
    "survived = df[df[\"Survived\"] == 1] # в данной строке мы создаем булеву серию по которой в датайрейме фильтруем строки и создаем новый датафрейм, с выжившими\n",
    "survived_female = survived[survived[\"Sex\"] == 'female'].shape[0] / df.shape[0] # проводим доп фильтрацию по полу и делим на количество строк\n",
    "survived_male = survived[survived[\"Sex\"] == 'male'].shape[0] / df.shape[0]\n",
    "print(\"Доля выживших:\", df[\"Survived\"].mean())\n",
    "print(\"Доля выживших женщин:\", survived_female)\n",
    "print(\"Доля выживших мужчин:\", survived_male)"
   ]
  },
  {
   "cell_type": "code",
   "execution_count": 8,
   "id": "cfdbe672-7874-4bc9-a408-3c1fd56a6a92",
   "metadata": {},
   "outputs": [
    {
     "name": "stdout",
     "output_type": "stream",
     "text": [
      "0.3838383838383838\n"
     ]
    }
   ],
   "source": [
    "alter = df[df[\"Survived\"] == 1]\n",
    "viz = alter.shape[0] / df.shape[0] # альтернативный способ подсчитать долю выживших \n",
    "print(viz)"
   ]
  },
  {
   "cell_type": "code",
   "execution_count": 9,
   "id": "8fd39fd8-2be2-4d4b-88e3-00d4691d9abb",
   "metadata": {},
   "outputs": [
    {
     "name": "stdout",
     "output_type": "stream",
     "text": [
      "0.4351851851851852\n",
      "0.5648148148148148\n"
     ]
    }
   ],
   "source": [
    "cl = df[df[\"Pclass\"] == 1] # оказывается среди пассажиров первого класса спаслось  больше мужчин\n",
    "wocl = cl[cl[\"Sex\"] == 'female'].shape[0] / cl.shape[0]\n",
    "macl = cl[cl[\"Sex\"] == \"male\"].shape[0] / cl.shape[0]\n",
    "print(wocl)\n",
    "print(macl)"
   ]
  },
  {
   "cell_type": "code",
   "execution_count": 10,
   "id": "9c7f21cc-9016-41b3-9ace-f027d7b8c5a5",
   "metadata": {},
   "outputs": [
    {
     "data": {
      "text/plain": [
       "Pclass\n",
       "1    216\n",
       "2    184\n",
       "3    491\n",
       "Name: PassengerId, dtype: int64"
      ]
     },
     "execution_count": 10,
     "metadata": {},
     "output_type": "execute_result"
    }
   ],
   "source": [
    "# сколько пассажиров ехало в каждом классе \n",
    "df.groupby('Pclass')['PassengerId'].count() "
   ]
  },
  {
   "cell_type": "code",
   "execution_count": 11,
   "id": "47dfc6b5-dcc5-49bb-bd04-deec7e113f4a",
   "metadata": {},
   "outputs": [
    {
     "data": {
      "text/plain": [
       "32.204207968574636"
      ]
     },
     "execution_count": 11,
     "metadata": {},
     "output_type": "execute_result"
    }
   ],
   "source": [
    "# сколько в среднем платили за проезд. \n",
    "df['Fare'].mean()"
   ]
  },
  {
   "cell_type": "code",
   "execution_count": 12,
   "id": "47207df0-74eb-4a24-af31-02302325df72",
   "metadata": {},
   "outputs": [
    {
     "data": {
      "text/plain": [
       "Pclass\n",
       "1    84.154687\n",
       "2    20.662183\n",
       "3    13.675550\n",
       "Name: Fare, dtype: float64"
      ]
     },
     "execution_count": 12,
     "metadata": {},
     "output_type": "execute_result"
    }
   ],
   "source": [
    "# посмотрим сколько в среднем стоили билеты в разных классах\n",
    "df.groupby('Pclass')['Fare'].mean()"
   ]
  },
  {
   "cell_type": "code",
   "execution_count": 13,
   "id": "73ca2509-3632-4bd1-8305-9c75bd9a4a84",
   "metadata": {},
   "outputs": [
    {
     "data": {
      "text/html": [
       "<div>\n",
       "<style scoped>\n",
       "    .dataframe tbody tr th:only-of-type {\n",
       "        vertical-align: middle;\n",
       "    }\n",
       "\n",
       "    .dataframe tbody tr th {\n",
       "        vertical-align: top;\n",
       "    }\n",
       "\n",
       "    .dataframe thead th {\n",
       "        text-align: right;\n",
       "    }\n",
       "</style>\n",
       "<table border=\"1\" class=\"dataframe\">\n",
       "  <thead>\n",
       "    <tr style=\"text-align: right;\">\n",
       "      <th></th>\n",
       "      <th>Survived</th>\n",
       "      <th>Pclass</th>\n",
       "      <th>Sex</th>\n",
       "      <th>Age</th>\n",
       "      <th>SibSp</th>\n",
       "      <th>Parch</th>\n",
       "      <th>Fare</th>\n",
       "      <th>Cabin</th>\n",
       "    </tr>\n",
       "  </thead>\n",
       "  <tbody>\n",
       "    <tr>\n",
       "      <th>0</th>\n",
       "      <td>0</td>\n",
       "      <td>3</td>\n",
       "      <td>male</td>\n",
       "      <td>22.0</td>\n",
       "      <td>1</td>\n",
       "      <td>0</td>\n",
       "      <td>7.2500</td>\n",
       "      <td>NaN</td>\n",
       "    </tr>\n",
       "    <tr>\n",
       "      <th>1</th>\n",
       "      <td>1</td>\n",
       "      <td>1</td>\n",
       "      <td>female</td>\n",
       "      <td>38.0</td>\n",
       "      <td>1</td>\n",
       "      <td>0</td>\n",
       "      <td>71.2833</td>\n",
       "      <td>C85</td>\n",
       "    </tr>\n",
       "    <tr>\n",
       "      <th>2</th>\n",
       "      <td>1</td>\n",
       "      <td>3</td>\n",
       "      <td>female</td>\n",
       "      <td>26.0</td>\n",
       "      <td>0</td>\n",
       "      <td>0</td>\n",
       "      <td>7.9250</td>\n",
       "      <td>NaN</td>\n",
       "    </tr>\n",
       "    <tr>\n",
       "      <th>3</th>\n",
       "      <td>1</td>\n",
       "      <td>1</td>\n",
       "      <td>female</td>\n",
       "      <td>35.0</td>\n",
       "      <td>1</td>\n",
       "      <td>0</td>\n",
       "      <td>53.1000</td>\n",
       "      <td>C123</td>\n",
       "    </tr>\n",
       "    <tr>\n",
       "      <th>4</th>\n",
       "      <td>0</td>\n",
       "      <td>3</td>\n",
       "      <td>male</td>\n",
       "      <td>35.0</td>\n",
       "      <td>0</td>\n",
       "      <td>0</td>\n",
       "      <td>8.0500</td>\n",
       "      <td>NaN</td>\n",
       "    </tr>\n",
       "  </tbody>\n",
       "</table>\n",
       "</div>"
      ],
      "text/plain": [
       "   Survived  Pclass     Sex   Age  SibSp  Parch     Fare Cabin\n",
       "0         0       3    male  22.0      1      0   7.2500   NaN\n",
       "1         1       1  female  38.0      1      0  71.2833   C85\n",
       "2         1       3  female  26.0      0      0   7.9250   NaN\n",
       "3         1       1  female  35.0      1      0  53.1000  C123\n",
       "4         0       3    male  35.0      0      0   8.0500   NaN"
      ]
     },
     "execution_count": 13,
     "metadata": {},
     "output_type": "execute_result"
    }
   ],
   "source": [
    "# дропом можно убирать ненужные колонки\n",
    "df = df.drop(labels=[\"Name\",\"Ticket\",\"Embarked\",\"PassengerId\"], axis=1)\n",
    "df.head()"
   ]
  },
  {
   "cell_type": "code",
   "execution_count": 14,
   "id": "0ab201a6-e093-4e91-afd2-22ede01dcc6e",
   "metadata": {},
   "outputs": [
    {
     "name": "stdout",
     "output_type": "stream",
     "text": [
      "Пропуски в Age: 177\n",
      "Пропуски в Cabin: 687\n"
     ]
    }
   ],
   "source": [
    "# используя данные о количестве ненулевых значений мы выявили подозрительно пустые столбцы. Сколько в них пропусков?\n",
    "print(\"Пропуски в Age:\", df['Age'].isna().sum())\n",
    "print(\"Пропуски в Cabin:\", df['Cabin'].isna().sum())"
   ]
  },
  {
   "cell_type": "code",
   "execution_count": 15,
   "id": "77ac8cd9-c91b-4d97-a144-24e5f9367e32",
   "metadata": {},
   "outputs": [
    {
     "name": "stderr",
     "output_type": "stream",
     "text": [
      "C:\\Users\\ilyas\\AppData\\Local\\Temp\\ipykernel_22440\\1512602338.py:3: FutureWarning: A value is trying to be set on a copy of a DataFrame or Series through chained assignment using an inplace method.\n",
      "The behavior will change in pandas 3.0. This inplace method will never work because the intermediate object on which we are setting values always behaves as a copy.\n",
      "\n",
      "For example, when doing 'df[col].method(value, inplace=True)', try using 'df.method({col: value}, inplace=True)' or df[col] = df[col].method(value) instead, to perform the operation inplace on the original object.\n",
      "\n",
      "\n",
      "  df[\"Age\"].fillna(df[\"Age\"].median(), inplace=True)\n",
      "C:\\Users\\ilyas\\AppData\\Local\\Temp\\ipykernel_22440\\1512602338.py:4: FutureWarning: A value is trying to be set on a copy of a DataFrame or Series through chained assignment using an inplace method.\n",
      "The behavior will change in pandas 3.0. This inplace method will never work because the intermediate object on which we are setting values always behaves as a copy.\n",
      "\n",
      "For example, when doing 'df[col].method(value, inplace=True)', try using 'df.method({col: value}, inplace=True)' or df[col] = df[col].method(value) instead, to perform the operation inplace on the original object.\n",
      "\n",
      "\n",
      "  df[\"Cabin\"].fillna(\"NoInform\", inplace=True)\n"
     ]
    }
   ],
   "source": [
    "# делаем вывод, что возраст и номер кабины следует анализировать осторожно.\n",
    "# можно попытаться заполнить пропуски для того, чтобы нейросеть могла обучаться\n",
    "df[\"Age\"].fillna(df[\"Age\"].median(), inplace=True)\n",
    "df[\"Cabin\"].fillna(\"NoInform\", inplace=True)"
   ]
  },
  {
   "cell_type": "code",
   "execution_count": 16,
   "id": "a8dc49de-15f6-4375-b198-509bf3da1524",
   "metadata": {},
   "outputs": [
    {
     "name": "stdout",
     "output_type": "stream",
     "text": [
      "True\n"
     ]
    }
   ],
   "source": [
    "# ответим на вопрос, правда ли что выживали пассажиры с наиболее дорогими билетами?\n",
    "print(df[df[\"Survived\"] == 1][\"Fare\"].mean() > df[df[\"Survived\"] == 0][\"Fare\"].mean())"
   ]
  },
  {
   "cell_type": "code",
   "execution_count": 17,
   "id": "89a354bf-0265-420e-abc1-7b785223363d",
   "metadata": {},
   "outputs": [
    {
     "name": "stdout",
     "output_type": "stream",
     "text": [
      "0.6296296296296297 0.47282608695652173 0.24236252545824846\n"
     ]
    }
   ],
   "source": [
    "# попробуем ответить на вопрос альтернативным способом. \n",
    "# чем выше класс, тем дороже билет, это мы уже выяснили ранее\n",
    "# посчитаем проценты доли выживших в разных классах и сравним\n",
    "life1 = df[df['Pclass'] == 1]\n",
    "life2 = df[df['Pclass'] == 2]\n",
    "life3 = df[df['Pclass'] == 3]\n",
    "q1 = life1[life1['Survived'] == 1].shape[0] / life1.shape[0]\n",
    "q2 = life2[life2['Survived'] == 1].shape[0] / life2.shape[0]\n",
    "q3 = life3[life3['Survived'] == 1].shape[0] / life3.shape[0]\n",
    "print(q1,q2,q3)"
   ]
  },
  {
   "cell_type": "code",
   "execution_count": 22,
   "id": "63a960d5-d1eb-44dd-8488-64f2237f32d1",
   "metadata": {},
   "outputs": [
    {
     "name": "stdout",
     "output_type": "stream",
     "text": [
      "0.45652173913043476 0.7580645161290323\n",
      "0.4186046511627907 0.46511627906976744 0.7441860465116279 0.7441860465116279 0.7727272727272727\n"
     ]
    }
   ],
   "source": [
    "s_life1 = life1.sort_values(by='Fare')\n",
    "dlina = len(s_life2) // 2 \n",
    "half1_life1 = s_life1.iloc[:dlina]\n",
    "half2_life1 = s_life1.iloc[dlina:]\n",
    "qq1 = half1_life1[half1_life1['Survived'] == 1].shape[0] / half1_life1.shape[0]\n",
    "qq2 = half2_life1[half2_life1['Survived'] == 1].shape[0] / half2_life1.shape[0]\n",
    "print(qq1,qq2)\n",
    "\n",
    "s_life1 = life1.sort_values(by='Fare')\n",
    "dlina = len(s_life1) // 5 \n",
    "half1_life1 = s_life1.iloc[:dlina]\n",
    "half2_life1 = s_life1.iloc[dlina: 2 * dlina]\n",
    "half3_life1 = s_life1.iloc[2 * dlina :3* dlina]\n",
    "half4_life1 = s_life1.iloc[3 * dlina: 4* dlina]\n",
    "half5_life1 = s_life1.iloc[4 * dlina:]\n",
    "qq1 = half1_life1[half1_life1['Survived'] == 1].shape[0] / half1_life1.shape[0]\n",
    "qq2 = half2_life1[half2_life1['Survived'] == 1].shape[0] / half2_life1.shape[0]\n",
    "qq3 = half3_life1[half3_life1['Survived'] == 1].shape[0] / half3_life1.shape[0]\n",
    "qq4 = half4_life1[half4_life1['Survived'] == 1].shape[0] / half4_life1.shape[0]\n",
    "qq5 = half5_life1[half5_life1['Survived'] == 1].shape[0] / half5_life1.shape[0]\n",
    "print(qq1,qq2,qq3,qq4,qq5)"
   ]
  },
  {
   "cell_type": "code",
   "execution_count": 20,
   "id": "2f6582d4-63c5-43b2-85a5-967ce1335f32",
   "metadata": {},
   "outputs": [
    {
     "name": "stdout",
     "output_type": "stream",
     "text": [
      "0.358695652173913 0.5869565217391305\n",
      "0.32558139534883723 0.3488372093023256 0.5581395348837209 0.6744186046511628 0.4166666666666667\n"
     ]
    }
   ],
   "source": [
    "s_life2 = life2.sort_values(by='Fare')\n",
    "dlina2 = len(s_life2) // 2 \n",
    "half1_life2 = s_life2.iloc[:dlina2]\n",
    "half2_life2 = s_life2.iloc[dlina2:]\n",
    "qq1 = half1_life2[half1_life2['Survived'] == 1].shape[0] / half1_life2.shape[0]\n",
    "qq2 = half2_life2[half2_life2['Survived'] == 1].shape[0] / half2_life2.shape[0]\n",
    "print(qq1,qq2)\n",
    "\n",
    "s_life2 = life2.sort_values(by='Fare')\n",
    "dlina2 = len(s_life2) // 5 \n",
    "half1_life2 = s_life2.iloc[:dlina]\n",
    "half2_life2 = s_life2.iloc[dlina: 2 * dlina]\n",
    "half3_life2 = s_life2.iloc[2 * dlina :3* dlina]\n",
    "half4_life2 = s_life2.iloc[3 * dlina: 4* dlina]\n",
    "half5_life2 = s_life2.iloc[4 * dlina:]\n",
    "qq1 = half1_life2[half1_life2['Survived'] == 1].shape[0] / half1_life2.shape[0]\n",
    "qq2 = half2_life2[half2_life2['Survived'] == 1].shape[0] / half2_life2.shape[0]\n",
    "qq3 = half3_life2[half3_life2['Survived'] == 1].shape[0] / half3_life2.shape[0]\n",
    "qq4 = half4_life2[half4_life2['Survived'] == 1].shape[0] / half4_life2.shape[0]\n",
    "qq5 = half5_life2[half5_life2['Survived'] == 1].shape[0] / half5_life2.shape[0]\n",
    "print(qq1,qq2,qq3,qq4,qq5)"
   ]
  },
  {
   "cell_type": "code",
   "execution_count": 23,
   "id": "9a88220b-5228-491f-b70b-89d61263a03f",
   "metadata": {},
   "outputs": [
    {
     "name": "stdout",
     "output_type": "stream",
     "text": [
      "0.2163265306122449 0.2682926829268293\n",
      "0.19387755102040816 0.25510204081632654 0.17346938775510204 0.35714285714285715 0.23232323232323232\n"
     ]
    }
   ],
   "source": [
    "s_life3 = life3.sort_values(by='Fare')\n",
    "dlina3 = len(s_life3) // 2 \n",
    "half1_life3 = s_life3.iloc[:dlina3]\n",
    "half2_life3 = s_life3.iloc[dlina3:]\n",
    "qq1 = half1_life3[half1_life3['Survived'] == 1].shape[0] / half1_life3.shape[0]\n",
    "qq2 = half2_life3[half2_life3['Survived'] == 1].shape[0] / half2_life3.shape[0]\n",
    "print(qq1,qq2)\n",
    "\n",
    "\n",
    "s_life3 = life3.sort_values(by='Fare')\n",
    "dlina3 = len(s_life3) // 5 \n",
    "half1_life3 = s_life3.iloc[:dlina3]\n",
    "half2_life3 = s_life3.iloc[dlina3: 2 * dlina3]\n",
    "half3_life3 = s_life3.iloc[2 * dlina3 :3* dlina3]\n",
    "half4_life3 = s_life3.iloc[3 * dlina3: 4* dlina3]\n",
    "half5_life3 = s_life3.iloc[4 * dlina3:]\n",
    "qq1 = half1_life3[half1_life3['Survived'] == 1].shape[0] / half1_life3.shape[0]\n",
    "qq2 = half2_life3[half2_life3['Survived'] == 1].shape[0] / half2_life3.shape[0]\n",
    "qq3 = half3_life3[half3_life3['Survived'] == 1].shape[0] / half3_life3.shape[0]\n",
    "qq4 = half4_life3[half4_life3['Survived'] == 1].shape[0] / half4_life3.shape[0]\n",
    "qq5 = half5_life3[half5_life3['Survived'] == 1].shape[0] / half5_life3.shape[0]\n",
    "print(qq1,qq2,qq3,qq4,qq5)"
   ]
  },
  {
   "cell_type": "code",
   "execution_count": 61,
   "id": "f63ed8c9-8821-4dd7-a0d5-07a2f4a31508",
   "metadata": {},
   "outputs": [
    {
     "data": {
      "image/png": "[encoded data removed]",
      "text/plain": [
       "<Figure size 640x480 with 1 Axes>"
      ]
     },
     "metadata": {},
     "output_type": "display_data"
    }
   ],
   "source": [
    "gr = [0.19387, 0.2551, 0.1734, 0.35714, 0.2323, 0.3255, 0.3488, 0.5581, 0.6744, 0.4166, 0.4186, 0.4651, 0.7441, 0.7441, 0.7727] \n",
    "for i in range(15):\n",
    "    gr[i] = gr[i] * 100\n",
    "\n",
    "plt.plot(gr)\n",
    "plt.xlabel('Index')\n",
    "plt.ylabel('Value')\n",
    "plt.title('График данных')\n",
    "plt.axvline(5,color = 'gray',linestyle='dashed')\n",
    "plt.axvline(10,color = 'gray',linestyle='dashed')\n",
    "\n",
    "plt.show()"
   ]
  },
  {
   "cell_type": "code",
   "execution_count": null,
   "id": "9550240d-48ef-41d7-ac8f-797e63de39e0",
   "metadata": {},
   "outputs": [],
   "source": []
  }
 ],
 "metadata": {
  "kernelspec": {
   "display_name": "Python 3 (ipykernel)",
   "language": "python",
   "name": "python3"
  },
  "language_info": {
   "codemirror_mode": {
    "name": "ipython",
    "version": 3
   },
   "file_extension": ".py",
   "mimetype": "text/x-python",
   "name": "python",
   "nbconvert_exporter": "python",
   "pygments_lexer": "ipython3",
   "version": "3.12.0"
  }
 },
 "nbformat": 4,
 "nbformat_minor": 5
}
